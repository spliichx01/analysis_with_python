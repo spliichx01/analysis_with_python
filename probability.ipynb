{
 "cells": [
  {
   "cell_type": "code",
   "execution_count": 4,
   "metadata": {},
   "outputs": [
    {
     "name": "stdout",
     "output_type": "stream",
     "text": [
      "[1.0, 1.0, 0.6666666666666666, 0.5, 0.6, 0.6666666666666666, 0.7142857142857143, 0.75, 0.7777777777777778, 0.7]\n",
      "[0.4993494144730257, 0.49939951961569257, 0.4993495446812769, 0.4993996397838703, 0.4993496748374187, 0.4992997198879552, 0.49934980494148246, 0.4993998799759952, 0.49934993499349933, 0.4994]\n"
     ]
    }
   ],
   "source": [
    "# INITIAL CODE\n",
    "from numpy.random import seed, randint\n",
    "\n",
    "seed(1)\n",
    "\n",
    "def coin_toss():\n",
    "    if randint(0,2) == 1:\n",
    "        return 'HEAD'\n",
    "    else:\n",
    "        return 'TAIL'\n",
    "    \n",
    "probabilities = []\n",
    "heads = 0\n",
    "\n",
    "for n in range(1, 10001):\n",
    "    outcome = coin_toss()\n",
    "    if outcome == 'HEAD':\n",
    "        heads += 1\n",
    "    current_probability  = heads/n\n",
    "    probabilities.append(current_probability)\n",
    "print(probabilities[:10])\n",
    "print(probabilities[-10:])\n"
   ]
  },
  {
   "cell_type": "code",
   "execution_count": 5,
   "metadata": {},
   "outputs": [
    {
     "data": {
      "text/plain": [
       "\"An insurance company conducted a study with 200 individuals, and found that:\\n\\n87 individuals opted for at least a life insurance policy.\\n40 individuals opted for at least life and car insurance policies.\\n63 individuals opted for at least a house insurance policy.\\n160 individuals opted for at least one type of insurance policy.\\n\\nWe can't predict people's choices with certainty, so an individual choosing to buy an insurance policy is a random experiment. 200 individuals were part of the study, so you can consider the random experiment was performed 200 times. Find:\\n\\nP(L): The probability that a new customer opts for at least a life insurance. Assign your answer to a variable named p_l.\\nP(L and C): The probability that an individual opts for at least a life and a car insurance policy. Assign your answer to a variable named p_l_and_c.\\nP(H): The probability that an individual opts for at least a house insurance policy. Assign your answer to a variable named p_h.\\n\\n\\nWe can't predict people's choices with certainty, so an individual choosing to buy an insurance policy is a random experiment. 200 individuals were part of the study, so you can consider the random experiment was performed 200 times. Find:\\n\\nP(L): The probability that a new customer opts for at least a life insurance. Assign your answer to a variable named p_l.\\nP(L and C): The probability that an individual opts for at least a life and a car insurance policy. Assign your answer to a variable named p_l_and_c.\\nP(H): The probability that an individual opts for at least a house insurance policy. Assign your answer to a variable named p_h.\\n\\n\\n\""
      ]
     },
     "execution_count": 5,
     "metadata": {},
     "output_type": "execute_result"
    }
   ],
   "source": [
    "\"\"\"An insurance company conducted a study with 200 individuals, and found that:\n",
    "\n",
    "87 individuals opted for at least a life insurance policy.\n",
    "40 individuals opted for at least life and car insurance policies.\n",
    "63 individuals opted for at least a house insurance policy.\n",
    "160 individuals opted for at least one type of insurance policy.\n",
    "\n",
    "We can't predict people's choices with certainty, so an individual choosing to buy an insurance policy is a random experiment. 200 individuals were part of the study, so you can consider the random experiment was performed 200 times. Find:\n",
    "\n",
    "P(L): The probability that a new customer opts for at least a life insurance. Assign your answer to a variable named p_l.\n",
    "P(L and C): The probability that an individual opts for at least a life and a car insurance policy. Assign your answer to a variable named p_l_and_c.\n",
    "P(H): The probability that an individual opts for at least a house insurance policy. Assign your answer to a variable named p_h.\n",
    "\n",
    "\n",
    "We can't predict people's choices with certainty, so an individual choosing to buy an insurance policy is a random experiment. 200 individuals were part of the study, so you can consider the random experiment was performed 200 times. Find:\n",
    "\n",
    "P(L): The probability that a new customer opts for at least a life insurance. Assign your answer to a variable named p_l.\n",
    "P(L and C): The probability that an individual opts for at least a life and a car insurance policy. Assign your answer to a variable named p_l_and_c.\n",
    "P(H): The probability that an individual opts for at least a house insurance policy. Assign your answer to a variable named p_h.\n",
    "\n",
    "\n",
    "\"\"\""
   ]
  },
  {
   "cell_type": "markdown",
   "metadata": {},
   "source": [
    "### Solution to the problem"
   ]
  },
  {
   "cell_type": "code",
   "execution_count": 6,
   "metadata": {},
   "outputs": [],
   "source": [
    "p_l = 87 / 200 \n",
    "p_l_and_c = 40 / 200\n",
    "p_h = 63 / 200\n",
    "p_no = (200-160) / 200"
   ]
  },
  {
   "cell_type": "code",
   "execution_count": null,
   "metadata": {},
   "outputs": [],
   "source": []
  }
 ],
 "metadata": {
  "kernelspec": {
   "display_name": "Python 3",
   "language": "python",
   "name": "python3"
  },
  "language_info": {
   "codemirror_mode": {
    "name": "ipython",
    "version": 3
   },
   "file_extension": ".py",
   "mimetype": "text/x-python",
   "name": "python",
   "nbconvert_exporter": "python",
   "pygments_lexer": "ipython3",
   "version": "3.7.3"
  }
 },
 "nbformat": 4,
 "nbformat_minor": 2
}
