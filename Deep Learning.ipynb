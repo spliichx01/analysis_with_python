{
 "cells": [
  {
   "cell_type": "code",
   "execution_count": 23,
   "metadata": {},
   "outputs": [],
   "source": [
    "from sklearn.datasets import make_regression\n",
    "from sklearn.linear_model import SGDRegressor\n",
    "import pandas as pd"
   ]
  },
  {
   "cell_type": "code",
   "execution_count": 4,
   "metadata": {},
   "outputs": [],
   "source": [
    "data = make_regression(n_samples = 100,n_features = 3, random_state = 1 )\n",
    "features = pd.DataFrame(data[0])\n",
    "labels = pd.Series(data[1])"
   ]
  },
  {
   "cell_type": "code",
   "execution_count": 13,
   "metadata": {},
   "outputs": [],
   "source": [
    "# In the language of graphs, a feedforward network is a directed, acyclic graph.\n",
    "#  Gradient descent is the most common technique for fitting neural network models\n",
    "#and we'll explore it in further detail in the third mission.\n",
    "\n",
    "features['bias'] = 1\n",
    "\n",
    "def train(features, labels):\n",
    "    lr = SGDRegressor()\n",
    "    lr.fit(features,labels)\n",
    "    weights = lr.coef_\n",
    "    return weights\n",
    "\n",
    "def feedforward(features,weights):\n",
    "    predictions = np.dot(features, weights.T)\n",
    "    return predictions"
   ]
  },
  {
   "cell_type": "code",
   "execution_count": 21,
   "metadata": {},
   "outputs": [
    {
     "data": {
      "text/plain": [
       "array([4.41627368e+01, 9.89053756e+01, 5.81038700e+01, 9.30893505e-03])"
      ]
     },
     "execution_count": 21,
     "metadata": {},
     "output_type": "execute_result"
    }
   ],
   "source": [
    "train(features,labels)"
   ]
  },
  {
   "cell_type": "code",
   "execution_count": 26,
   "metadata": {},
   "outputs": [],
   "source": [
    "from sklearn.linear_model import SGDClassifier\n",
    "from sklearn.datasets import make_classification\n",
    "import pandas as pd\n",
    "import numpy as np\n",
    "\n",
    "class_data = make_classification(n_samples=100, n_features=4, random_state=1)\n",
    "class_features = pd.DataFrame(class_data[0])\n",
    "class_labels = pd.Series(class_data[1])\n",
    "class_features['bias'] = 1\n",
    "\n",
    "def log_train(class_features, class_labels):\n",
    "    sg = SGDClassifier()\n",
    "    sg.fit(class_features, class_labels)\n",
    "    return sg.coef_\n",
    "\n",
    "def sigmoid(linear_combination):\n",
    "    return 1/(1+np.exp(-linear_combination))\n",
    "\n",
    "def log_feedforward(class_features, log_train_weights):\n",
    "    linear_combination = np.dot(class_features,log_train_weights.T)\n",
    "    log_predictions = sigmoid(linear_combination)\n",
    "    log_predictions[log_predictions >= 0.5] = 1\n",
    "    log_predictions[log_predictions < 0.5] = 0\n",
    "    return log_predictions\n",
    "    \n",
    "\n",
    "# Uncomment this code when you're ready to test your functions.\n",
    "log_train_weights = log_train(class_features, class_labels)\n",
    "log_predictions = log_feedforward(class_features, log_train_weights)"
   ]
  },
  {
   "cell_type": "code",
   "execution_count": 27,
   "metadata": {},
   "outputs": [
    {
     "name": "stdout",
     "output_type": "stream",
     "text": [
      "[[ 18.94488862   3.69313012 -19.80725749  49.58868294   4.00160064]]\n"
     ]
    }
   ],
   "source": [
    "print(log_train_weights)"
   ]
  },
  {
   "cell_type": "code",
   "execution_count": 28,
   "metadata": {},
   "outputs": [
    {
     "name": "stdout",
     "output_type": "stream",
     "text": [
      "[[0.]\n",
      " [0.]\n",
      " [1.]\n",
      " [0.]\n",
      " [1.]\n",
      " [0.]\n",
      " [0.]\n",
      " [1.]\n",
      " [1.]\n",
      " [0.]\n",
      " [1.]\n",
      " [0.]\n",
      " [1.]\n",
      " [0.]\n",
      " [0.]\n",
      " [0.]\n",
      " [1.]\n",
      " [0.]\n",
      " [0.]\n",
      " [0.]\n",
      " [0.]\n",
      " [0.]\n",
      " [1.]\n",
      " [0.]\n",
      " [1.]\n",
      " [1.]\n",
      " [0.]\n",
      " [1.]\n",
      " [0.]\n",
      " [0.]\n",
      " [1.]\n",
      " [1.]\n",
      " [0.]\n",
      " [1.]\n",
      " [0.]\n",
      " [0.]\n",
      " [0.]\n",
      " [0.]\n",
      " [0.]\n",
      " [0.]\n",
      " [0.]\n",
      " [0.]\n",
      " [0.]\n",
      " [0.]\n",
      " [1.]\n",
      " [1.]\n",
      " [0.]\n",
      " [0.]\n",
      " [0.]\n",
      " [1.]\n",
      " [1.]\n",
      " [1.]\n",
      " [0.]\n",
      " [1.]\n",
      " [0.]\n",
      " [1.]\n",
      " [1.]\n",
      " [1.]\n",
      " [0.]\n",
      " [1.]\n",
      " [0.]\n",
      " [1.]\n",
      " [0.]\n",
      " [0.]\n",
      " [1.]\n",
      " [1.]\n",
      " [1.]\n",
      " [1.]\n",
      " [0.]\n",
      " [0.]\n",
      " [1.]\n",
      " [1.]\n",
      " [0.]\n",
      " [0.]\n",
      " [0.]\n",
      " [0.]\n",
      " [1.]\n",
      " [1.]\n",
      " [1.]\n",
      " [1.]\n",
      " [0.]\n",
      " [0.]\n",
      " [1.]\n",
      " [1.]\n",
      " [1.]\n",
      " [1.]\n",
      " [1.]\n",
      " [0.]\n",
      " [1.]\n",
      " [1.]\n",
      " [0.]\n",
      " [1.]\n",
      " [1.]\n",
      " [1.]\n",
      " [1.]\n",
      " [0.]\n",
      " [0.]\n",
      " [1.]\n",
      " [1.]\n",
      " [0.]]\n"
     ]
    }
   ],
   "source": [
    "print(log_predictions)"
   ]
  },
  {
   "cell_type": "code",
   "execution_count": null,
   "metadata": {},
   "outputs": [],
   "source": []
  }
 ],
 "metadata": {
  "kernelspec": {
   "display_name": "Python 3",
   "language": "python",
   "name": "python3"
  },
  "language_info": {
   "codemirror_mode": {
    "name": "ipython",
    "version": 3
   },
   "file_extension": ".py",
   "mimetype": "text/x-python",
   "name": "python",
   "nbconvert_exporter": "python",
   "pygments_lexer": "ipython3",
   "version": "3.7.3"
  }
 },
 "nbformat": 4,
 "nbformat_minor": 2
}
