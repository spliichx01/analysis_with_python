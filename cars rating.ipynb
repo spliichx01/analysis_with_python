{
 "cells": [
  {
   "cell_type": "code",
   "execution_count": 11,
   "metadata": {},
   "outputs": [],
   "source": [
    "from csv import reader\n",
    "import pandas as pd\n",
    "opened_file = open('car/car_names')\n",
    "read_file = reader(opened_file)\n",
    "car_names = list(read_file)"
   ]
  },
  {
   "cell_type": "code",
   "execution_count": 2,
   "metadata": {},
   "outputs": [],
   "source": [
    "car_names = car_names[0]"
   ]
  },
  {
   "cell_type": "code",
   "execution_count": 4,
   "metadata": {},
   "outputs": [
    {
     "name": "stdout",
     "output_type": "stream",
     "text": [
      "['1. Title: Car Evaluation Database']\n"
     ]
    }
   ],
   "source": [
    "print(car_names)"
   ]
  },
  {
   "cell_type": "code",
   "execution_count": 10,
   "metadata": {},
   "outputs": [
    {
     "data": {
      "text/plain": [
       "[['| names file (C4.5 format) for car evaluation domain'],\n",
       " [],\n",
       " ['| class values'],\n",
       " [],\n",
       " ['unacc', ' acc', ' good', ' vgood'],\n",
       " [],\n",
       " ['| attributes'],\n",
       " [],\n",
       " ['buying:   vhigh', ' high', ' med', ' low.'],\n",
       " ['maint:    vhigh', ' high', ' med', ' low.'],\n",
       " ['doors:    2', ' 3', ' 4', ' 5more.'],\n",
       " ['persons:  2', ' 4', ' more.'],\n",
       " ['lug_boot: small', ' med', ' big.'],\n",
       " ['safety:   low', ' med', ' high.']]"
      ]
     },
     "execution_count": 10,
     "metadata": {},
     "output_type": "execute_result"
    }
   ],
   "source": [
    "opened_file = open('car/car.c45-names')\n",
    "read_file = reader(opened_file)\n",
    "car_name = list(read_file)\n",
    "car_name"
   ]
  },
  {
   "cell_type": "code",
   "execution_count": 12,
   "metadata": {},
   "outputs": [],
   "source": [
    "df = pd.DataFrame(car_name)"
   ]
  },
  {
   "cell_type": "code",
   "execution_count": 13,
   "metadata": {},
   "outputs": [
    {
     "name": "stdout",
     "output_type": "stream",
     "text": [
      "                                                    0      1       2        3\n",
      "0   | names file (C4.5 format) for car evaluation ...   None    None     None\n",
      "1                                                None   None    None     None\n",
      "2                                      | class values   None    None     None\n",
      "3                                                None   None    None     None\n",
      "4                                               unacc    acc    good    vgood\n",
      "5                                                None   None    None     None\n",
      "6                                        | attributes   None    None     None\n",
      "7                                                None   None    None     None\n",
      "8                                     buying:   vhigh   high     med     low.\n",
      "9                                     maint:    vhigh   high     med     low.\n",
      "10                                        doors:    2      3       4   5more.\n",
      "11                                        persons:  2      4   more.     None\n",
      "12                                    lug_boot: small    med    big.     None\n",
      "13                                      safety:   low    med   high.     None\n"
     ]
    }
   ],
   "source": [
    "print(df)"
   ]
  },
  {
   "cell_type": "code",
   "execution_count": null,
   "metadata": {},
   "outputs": [],
   "source": []
  }
 ],
 "metadata": {
  "kernelspec": {
   "display_name": "Python 3",
   "language": "python",
   "name": "python3"
  },
  "language_info": {
   "codemirror_mode": {
    "name": "ipython",
    "version": 3
   },
   "file_extension": ".py",
   "mimetype": "text/x-python",
   "name": "python",
   "nbconvert_exporter": "python",
   "pygments_lexer": "ipython3",
   "version": "3.7.3"
  }
 },
 "nbformat": 4,
 "nbformat_minor": 2
}
